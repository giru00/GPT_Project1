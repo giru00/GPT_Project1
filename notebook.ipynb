{
 "cells": [
  {
   "cell_type": "code",
   "execution_count": 14,
   "metadata": {},
   "outputs": [
    {
     "name": "stdout",
     "output_type": "stream",
     "text": [
      "Tokens Used: 0\n",
      "\tPrompt Tokens: 0\n",
      "\tCompletion Tokens: 0\n",
      "Successful Requests: 0\n",
      "Total Cost (USD): $0.0\n",
      "Ingredients:\n",
      "- 1 cup of rice\n",
      "- 1 cup of water\n",
      "- 1 tablespoon of nuruk (fermentation starter)\n",
      "- 1 tablespoon of yeast\n",
      "\n",
      "Instructions:\n",
      "1. Rinse the rice under cold water until the water runs clear. Drain the rice and let it sit for 30 minutes.\n",
      "2. In a large pot, bring the water to a boil. Add the rice and cook for about 20 minutes, or until the rice is soft.\n",
      "3. Drain the rice and let it cool to room temperature.\n",
      "4. In a large bowl, mix the nuruk and yeast with the cooked rice. Cover the bowl with a clean cloth and let it sit at room temperature for 3-4 days, stirring occasionally.\n",
      "5. After 3-4 days, strain the mixture through a cheesecloth to remove any solids. Transfer the liquid to a clean container and let it sit for another 2-3 days to ferment further.\n",
      "6. Once the soju has fermented to your desired taste, strain it again through a cheesecloth to remove any remaining solids. Transfer the liquid to a bottle and store it in the refrigerator until ready to serve.\n",
      "\n",
      "Enjoy your homemade soju! None \n",
      "\n",
      "Tokens Used: 0\n",
      "\tPrompt Tokens: 0\n",
      "\tCompletion Tokens: 0\n",
      "Successful Requests: 0\n",
      "Total Cost (USD): $0.0\n"
     ]
    }
   ],
   "source": [
    "from langchain.memory import ConversationBufferWindowMemory\n"
   ]
  }
 ],
 "metadata": {
  "kernelspec": {
   "display_name": "env",
   "language": "python",
   "name": "python3"
  },
  "language_info": {
   "codemirror_mode": {
    "name": "ipython",
    "version": 3
   },
   "file_extension": ".py",
   "mimetype": "text/x-python",
   "name": "python",
   "nbconvert_exporter": "python",
   "pygments_lexer": "ipython3",
   "version": "3.11.6"
  }
 },
 "nbformat": 4,
 "nbformat_minor": 2
}
